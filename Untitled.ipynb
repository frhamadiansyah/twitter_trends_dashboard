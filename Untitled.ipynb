{
 "cells": [
  {
   "cell_type": "code",
   "execution_count": 1,
   "metadata": {
    "ExecuteTime": {
     "end_time": "2019-11-06T06:14:03.852670Z",
     "start_time": "2019-11-06T06:13:14.318323Z"
    }
   },
   "outputs": [],
   "source": [
    "import nltk # Imports the library\n",
    "# nltk.download_shell() #Download the necessary datasets\n",
    "import pandas as pd\n",
    "import numpy as np\n",
    "import seaborn as sns\n",
    "import matplotlib.pyplot as plt\n",
    "import string\n",
    "import re\n",
    "%matplotlib inline"
   ]
  },
  {
   "cell_type": "code",
   "execution_count": 7,
   "metadata": {
    "ExecuteTime": {
     "end_time": "2019-11-06T06:43:00.523800Z",
     "start_time": "2019-11-06T06:43:00.474901Z"
    }
   },
   "outputs": [
    {
     "name": "stderr",
     "output_type": "stream",
     "text": [
      "b'Skipping line 1844: expected 2 fields, saw 6\\nSkipping line 1951: expected 2 fields, saw 6\\nSkipping line 2059: expected 2 fields, saw 6\\nSkipping line 2069: expected 2 fields, saw 6\\nSkipping line 2143: expected 2 fields, saw 6\\nSkipping line 2196: expected 2 fields, saw 6\\nSkipping line 2240: expected 2 fields, saw 6\\nSkipping line 2362: expected 2 fields, saw 6\\nSkipping line 2483: expected 2 fields, saw 6\\nSkipping line 2525: expected 2 fields, saw 6\\nSkipping line 2538: expected 2 fields, saw 6\\nSkipping line 2540: expected 2 fields, saw 6\\nSkipping line 2560: expected 2 fields, saw 6\\nSkipping line 2783: expected 2 fields, saw 6\\nSkipping line 2825: expected 2 fields, saw 6\\nSkipping line 2829: expected 2 fields, saw 6\\nSkipping line 2972: expected 2 fields, saw 6\\nSkipping line 3034: expected 2 fields, saw 6\\nSkipping line 3086: expected 2 fields, saw 6\\nSkipping line 3152: expected 2 fields, saw 6\\nSkipping line 3169: expected 2 fields, saw 6\\nSkipping line 3242: expected 2 fields, saw 6\\nSkipping line 3442: expected 2 fields, saw 6\\nSkipping line 3472: expected 2 fields, saw 6\\nSkipping line 3634: expected 2 fields, saw 6\\nSkipping line 3827: expected 2 fields, saw 6\\nSkipping line 4082: expected 2 fields, saw 6\\nSkipping line 4131: expected 2 fields, saw 6\\nSkipping line 4163: expected 2 fields, saw 6\\nSkipping line 4270: expected 2 fields, saw 6\\nSkipping line 4358: expected 2 fields, saw 6\\nSkipping line 4366: expected 2 fields, saw 6\\nSkipping line 4389: expected 2 fields, saw 6\\nSkipping line 4396: expected 2 fields, saw 6\\n'\n"
     ]
    }
   ],
   "source": [
    "df = pd.read_csv('Twitter_Emotion_Dataset.csv', sep = ';', error_bad_lines=False)"
   ]
  },
  {
   "cell_type": "code",
   "execution_count": 9,
   "metadata": {
    "ExecuteTime": {
     "end_time": "2019-11-06T06:43:10.064093Z",
     "start_time": "2019-11-06T06:43:10.047928Z"
    }
   },
   "outputs": [
    {
     "data": {
      "text/html": [
       "<div>\n",
       "<style scoped>\n",
       "    .dataframe tbody tr th:only-of-type {\n",
       "        vertical-align: middle;\n",
       "    }\n",
       "\n",
       "    .dataframe tbody tr th {\n",
       "        vertical-align: top;\n",
       "    }\n",
       "\n",
       "    .dataframe thead th {\n",
       "        text-align: right;\n",
       "    }\n",
       "</style>\n",
       "<table border=\"1\" class=\"dataframe\">\n",
       "  <thead>\n",
       "    <tr style=\"text-align: right;\">\n",
       "      <th></th>\n",
       "      <th>label</th>\n",
       "      <th>tweet</th>\n",
       "    </tr>\n",
       "  </thead>\n",
       "  <tbody>\n",
       "    <tr>\n",
       "      <th>4364</th>\n",
       "      <td>love</td>\n",
       "      <td>Tahukah kamu, bahwa saat itu papa memejamkan m...</td>\n",
       "    </tr>\n",
       "    <tr>\n",
       "      <th>4365</th>\n",
       "      <td>fear</td>\n",
       "      <td>Sulitnya menetapkan Calon Wapresnya Jokowi di ...</td>\n",
       "    </tr>\n",
       "    <tr>\n",
       "      <th>4366</th>\n",
       "      <td>anger</td>\n",
       "      <td>5. masa depannya nggak jelas. lha iya, gimana ...</td>\n",
       "    </tr>\n",
       "    <tr>\n",
       "      <th>4367</th>\n",
       "      <td>happy</td>\n",
       "      <td>[USERNAME] dulu beneran ada mahasiswa Teknik U...</td>\n",
       "    </tr>\n",
       "    <tr>\n",
       "      <th>4368</th>\n",
       "      <td>sadness</td>\n",
       "      <td>Ya Allah, hanya Engkau yang mengetahui rasa sa...</td>\n",
       "    </tr>\n",
       "  </tbody>\n",
       "</table>\n",
       "</div>"
      ],
      "text/plain": [
       "        label                                              tweet\n",
       "4364     love  Tahukah kamu, bahwa saat itu papa memejamkan m...\n",
       "4365     fear  Sulitnya menetapkan Calon Wapresnya Jokowi di ...\n",
       "4366    anger  5. masa depannya nggak jelas. lha iya, gimana ...\n",
       "4367    happy  [USERNAME] dulu beneran ada mahasiswa Teknik U...\n",
       "4368  sadness  Ya Allah, hanya Engkau yang mengetahui rasa sa..."
      ]
     },
     "execution_count": 9,
     "metadata": {},
     "output_type": "execute_result"
    }
   ],
   "source": [
    "df.tail()"
   ]
  },
  {
   "cell_type": "code",
   "execution_count": 10,
   "metadata": {
    "ExecuteTime": {
     "end_time": "2019-11-06T06:43:48.599939Z",
     "start_time": "2019-11-06T06:43:48.555711Z"
    }
   },
   "outputs": [
    {
     "data": {
      "text/plain": [
       "anger      1097\n",
       "happy      1010\n",
       "sadness     998\n",
       "fear        637\n",
       "love        627\n",
       "Name: label, dtype: int64"
      ]
     },
     "execution_count": 10,
     "metadata": {},
     "output_type": "execute_result"
    }
   ],
   "source": [
    "df['label'].value_counts()"
   ]
  },
  {
   "cell_type": "code",
   "execution_count": null,
   "metadata": {},
   "outputs": [],
   "source": []
  }
 ],
 "metadata": {
  "kernelspec": {
   "display_name": "Python 3",
   "language": "python",
   "name": "python3"
  },
  "language_info": {
   "codemirror_mode": {
    "name": "ipython",
    "version": 3
   },
   "file_extension": ".py",
   "mimetype": "text/x-python",
   "name": "python",
   "nbconvert_exporter": "python",
   "pygments_lexer": "ipython3",
   "version": "3.7.3"
  }
 },
 "nbformat": 4,
 "nbformat_minor": 2
}
